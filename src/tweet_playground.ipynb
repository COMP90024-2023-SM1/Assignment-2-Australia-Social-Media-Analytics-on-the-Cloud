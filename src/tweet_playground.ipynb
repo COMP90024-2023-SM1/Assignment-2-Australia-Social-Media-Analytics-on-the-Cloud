{
 "cells": [
  {
   "cell_type": "code",
   "execution_count": 7,
   "metadata": {},
   "outputs": [],
   "source": [
    "import json\n",
    "import os"
   ]
  },
  {
   "cell_type": "code",
   "execution_count": 6,
   "metadata": {},
   "outputs": [
    {
     "name": "stdout",
     "output_type": "stream",
     "text": [
      "@_Cristian_Vlad_ @PenelopeRuzy @sadino22 @130629130629 @Margaret_Krac @Scorpianking50 @CherrylezamaPaz @Verywimp @AnatCastle @StefanSubotic91 @ArHokum @MalikaAkram14 @JohnKish20 @EehHorn @TopogigioRini @maype7 @mmjoymm_StP @santer_karen @appoline85 @lynda3035 @poupouch48 @ElveroW @leeduca @blakiecarmen @TapardeaA @promorama39 @MoishesMom @Pho2oart @Masterc97659979 @Eva82040306 @DianeK23502279 @christelaaldrs @Chandra1Vinod @twistabout @yazidyaks @111ayasuko @kelly_rdc @KarenBarryDavi1 @cookiemutt @47X4GyQMc5Xbi31 @dew_frank @SLARTZONE @crea_bea_5 @dailyreport4me @BrianCapry @TammyJLemley @lausaysmeow @oftadrian @Gatuzs Happy #Purrsday to you as well! 💚\n",
      "@KellyODwyer @bridgetarcher @sallymcmanus ICAC? What is the #LNPCorruptionParty #LNPCrimeFamily afraid of?\n",
      "@ScottMorrisonMP Scott you appear to be campaigning? Have you called an election? If not doesn't this go against our laws? Campaigning on the tax payers dime?  #auspol #ScottyFromMarketing\n",
      "@ScottMorrisonMP @RonniSalt Using your wife to fish for insults to take offence at is a bit much, #ScottyTheCreep ..... will you be getting the girls out again if the response disappoints?\n",
      "#auspol\n"
     ]
    }
   ],
   "source": [
    "with open('../data/twitter-huge.json', 'r') as file:\n",
    "    for index, text in enumerate(file):\n",
    "        if index != 0:\n",
    "            text = json.loads(text[:-2])\n",
    "            if text['value']['tags'] != '':\n",
    "                print(text['doc']['data']['text'])\n",
    "        if index == 100:\n",
    "            break"
   ]
  },
  {
   "cell_type": "code",
   "execution_count": 5,
   "metadata": {},
   "outputs": [
    {
     "data": {
      "text/plain": [
       "['auspol', 'ScottyFromMarketing']"
      ]
     },
     "execution_count": 5,
     "metadata": {},
     "output_type": "execute_result"
    }
   ],
   "source": [
    "'auspol|ScottyFromMarketing'.split('|')"
   ]
  },
  {
   "cell_type": "code",
   "execution_count": 8,
   "metadata": {},
   "outputs": [
    {
     "name": "stdout",
     "output_type": "stream",
     "text": [
      "52 7900136492\n",
      "7900136492 15800273362\n",
      "15800273362 23700410858\n",
      "23700410858 31600547649\n",
      "31600547649 39500684386\n",
      "39500684386 47400821157\n",
      "47400821157 55300958364\n",
      "55300958364 63201091459\n"
     ]
    }
   ],
   "source": [
    "dataset_size = os.path.getsize('../data/twitter-huge.json')\n",
    "size_per_core = dataset_size / 8\n",
    "\n",
    "\n",
    "with open('../data/twitter-huge.json', 'r', encoding='utf-8') as file:\n",
    "    # Read pass the first line\n",
    "    file.readline()\n",
    "    block_end = file.tell()\n",
    "\n",
    "    while True:\n",
    "        block_start = block_end\n",
    "        file.seek(file.tell() + size_per_core)\n",
    "        # Read the next line to prevent reading partial tweet\n",
    "        file.readline()\n",
    "        block_end = file.tell()\n",
    "\n",
    "        if block_end > dataset_size:\n",
    "            block_end = dataset_size\n",
    "            \n",
    "        print(str(block_start) + \" \" + str(block_end))\n",
    "        if block_end == dataset_size:\n",
    "            break"
   ]
  },
  {
   "cell_type": "code",
   "execution_count": 25,
   "metadata": {},
   "outputs": [
    {
     "name": "stdout",
     "output_type": "stream",
     "text": [
      "}]}}\n",
      "\n"
     ]
    }
   ],
   "source": [
    "with open('../data/twitter-huge.json', 'r', encoding='utf-8') as file:\n",
    "    file.seek(63201091450)\n",
    "    line = file.readline()\n",
    "    print(line)"
   ]
  },
  {
   "cell_type": "code",
   "execution_count": 14,
   "metadata": {},
   "outputs": [
    {
     "data": {
      "text/plain": [
       "['line,']"
      ]
     },
     "execution_count": 14,
     "metadata": {},
     "output_type": "execute_result"
    }
   ],
   "source": [
    "'line,'.splitlines()"
   ]
  },
  {
   "cell_type": "code",
   "execution_count": 64,
   "metadata": {},
   "outputs": [],
   "source": [
    "import json\n",
    "from datetime import datetime\n",
    "\n",
    "DATE_FORMAT = \"%Y-%m-%dT%H:%M:%S.%fZ\"\n",
    "\n",
    "def extract_tweet_info(one_tweet):\n",
    "    \"\"\"\n",
    "    Extract necessary information of a tweet and returns in\n",
    "    JSON format\n",
    "\n",
    "    Arguments:\n",
    "    one_tweet --- one tweet JSON object\n",
    "    \"\"\"\n",
    "    # Parse date format into YYYY-MM-DD HH:MM:SS\n",
    "    tweet_time = datetime.strptime(one_tweet['doc']['data']['created_at'],\n",
    "                                   DATE_FORMAT).strftime('%Y-%m-%d %H:%M:%S')\n",
    "    tokens = one_tweet['value']['tokens'].split('|')\n",
    "    tokens = [word.lower() for word in tokens]\n",
    "    simplified_tweet = {\n",
    "        'tweet_time': tweet_time,\n",
    "        'language_code': one_tweet['doc']['data']['lang'],\n",
    "        'tweet_metrics': one_tweet['doc']['data']['public_metrics'],\n",
    "        'tweet_tags': {'hashtags': one_tweet['value']['tags'].split('|'),\n",
    "                       'tokens': tokens},\n",
    "        'tweet_text': one_tweet['doc']['data']['text'].lower(),\n",
    "        \"sentiment\": one_tweet['doc']['data']['sentiment'],\n",
    "        'location': one_tweet['doc']['includes']['places']\n",
    "    }\n",
    "\n",
    "    return simplified_tweet"
   ]
  },
  {
   "cell_type": "code",
   "execution_count": 65,
   "metadata": {},
   "outputs": [],
   "source": [
    "keyword = ['russia', 'ukraine']"
   ]
  },
  {
   "cell_type": "code",
   "execution_count": 68,
   "metadata": {},
   "outputs": [
    {
     "name": "stdout",
     "output_type": "stream",
     "text": [
      "{'tweet_time': '2022-02-10 02:57:44', 'language_code': 'en', 'tweet_metrics': {'retweet_count': 0, 'reply_count': 0, 'like_count': 0, 'quote_count': 0}, 'tweet_tags': {'hashtags': ['cryptonews', 'cryptoseo', 'btcnews', 'cryptocurrency'], 'tokens': ['russia', 'recognise', 'crypto', 'form', 'currency']}, 'tweet_text': 'russia to recognise crypto as a form of currency..\\n#cryptonews #cryptoseo #btcnews #cryptocurrency \\n\\nhttps://t.co/vssph0k2zu', 'sentiment': 0, 'location': [{'full_name': 'Sydney, New South Wales', 'geo': {'type': 'Feature', 'bbox': [150.520928608, -34.1183470085, 151.343020992, -33.578140996], 'properties': {}}, 'id': '0073b76548e5984f'}]}\n",
      "{'tweet_time': '2022-02-10 04:05:19', 'language_code': 'en', 'tweet_metrics': {'retweet_count': 0, 'reply_count': 0, 'like_count': 0, 'quote_count': 0}, 'tweet_tags': {'hashtags': [''], 'tokens': ['meanwhile', 'watch', 'china', 'and', 'russia', 'flexing', 'their', 'muscles', 'global', 'inflationary', 'pressures', 'the', 'world', 'facing', 'supply', 'chain', 'nightmares', 'and', 'the', 'ongoing', 'nuisance', 'global', 'pandemic']}, 'tweet_text': 'meanwhile, as we watch china and russia flexing their muscles, global inflationary pressures, the world facing supply chain nightmares and the ongoing nuisance of a global pandemic…… https://t.co/p6zgoet5nn', 'sentiment': 0, 'location': [{'full_name': 'Adelaide, South Australia', 'geo': {'type': 'Feature', 'bbox': [138.44212992, -35.348970061, 138.780189824, -34.652564053], 'properties': {}}, 'id': '01e8a1a140ccdc5c'}]}\n",
      "{'tweet_time': '2022-02-10 08:47:42', 'language_code': 'en', 'tweet_metrics': {'retweet_count': 0, 'reply_count': 0, 'like_count': 0, 'quote_count': 0}, 'tweet_tags': {'hashtags': [''], 'tokens': ['watching', 'the', 'report', 'narrative', 'ukraine', 'very', 'disappointing', 'seeing', 'them', 'parrotting', 'line', 'line', 'those', 'who', 'proferred', 'the', 'bullshit', 'weapons', 'mass', 'destruction', 'crap', 'and', 'used', 'excuse', 'for', 'the', 'endless', 'wars', 'that', 'followed', 'they', 'are', 'trying', 'the', 'same', 'gambit', 'europe']}, 'tweet_text': 'watching the 7:30 report narrative re ukraine...very disappointing seeing them parrotting line line of those who proferred the bullshit weapons of mass destruction crap and used it as an excuse for the endless wars that followed. they are trying the same gambit in europe.', 'sentiment': -0.2826086956521739, 'location': [{'full_name': 'Canberra, Australian Capital Territory', 'geo': {'type': 'Feature', 'bbox': [148.9959216, -35.480260417, 149.263643456, -35.147699163], 'properties': {}}, 'id': '01e4b0c84959d430'}]}\n",
      "{'tweet_time': '2022-02-10 12:24:59', 'language_code': 'en', 'tweet_metrics': {'retweet_count': 0, 'reply_count': 0, 'like_count': 0, 'quote_count': 0}, 'tweet_tags': {'hashtags': [''], 'tokens': ['just', 'wish', 'they', 'could', 'work', 'out', 'whether', 'going', 'war', 'with', 'russia', 'china']}, 'tweet_text': \"@archieobserving @davidbewart i just wish they could work out whether we're going to war with russia or china\", 'sentiment': -0.05555555555555555, 'location': [{'full_name': 'Nelly Bay, Queensland', 'geo': {'type': 'Feature', 'bbox': [146.838072992, -19.166838021, 146.85864912, -19.1431395025], 'properties': {}}, 'id': '003647651b280459'}]}\n",
      "{'tweet_time': '2022-02-11 09:59:06', 'language_code': 'en', 'tweet_metrics': {'retweet_count': 0, 'reply_count': 0, 'like_count': 0, 'quote_count': 0}, 'tweet_tags': {'hashtags': [''], 'tokens': ['according', 'the', 'pbs', 'news', 'today', 'russia', 'has', 'installations', 'along', 'the', 'ukraine', 'border', 'that', 'beyond', 'what', 'would', 'required', 'for', 'military', 'exercise', 'including', 'field', 'hospitals', 'looking', 'more', 'obvious', 'that', 'attack', 'imminent']}, 'tweet_text': 'according to the pbs news today, russia has installations along the ukraine border that go beyond what would be required for a military exercise. including, field hospitals. it is looking more obvious that an attack is imminent.😳', 'sentiment': -0.02631578947368421, 'location': [{'full_name': 'Perth, Western Australia', 'geo': {'type': 'Feature', 'bbox': [115.617614368, -32.675715325, 116.239023008, -31.6244855145], 'properties': {}}, 'id': '0118c71c0ed41109'}]}\n",
      "{'tweet_time': '2022-02-11 23:36:55', 'language_code': 'en', 'tweet_metrics': {'retweet_count': 0, 'reply_count': 0, 'like_count': 0, 'quote_count': 0}, 'tweet_tags': {'hashtags': [''], 'tokens': ['this', 'sooooo', 'wrong', 'russia', 'your', 'listening', 'one', 'respects', 'cheats', 'lies', 'and', 'political', 'corruption', 'win', 'another', 'lot', 'who', 'should', 'leave', 'earth', 'full', 'honesty', 'essential', 'any', 'global', 'comp']}, 'tweet_text': '@cnn this is sooooo wrong !! russia, if your listening 🤪. no one respects cheats, lies, and political corruption to win. another lot who should leave earth. we’re full !!!!    honesty is essential in any global comp. 🤨', 'sentiment': -0.1111111111111111, 'location': [{'full_name': 'Adelaide, South Australia', 'geo': {'type': 'Feature', 'bbox': [138.44212992, -35.348970061, 138.780189824, -34.652564053], 'properties': {}}, 'id': '01e8a1a140ccdc5c'}]}\n",
      "{'tweet_time': '2022-02-11 11:23:55', 'language_code': 'en', 'tweet_metrics': {'retweet_count': 0, 'reply_count': 0, 'like_count': 0, 'quote_count': 0}, 'tweet_tags': {'hashtags': [''], 'tokens': ['the', 'world', 'leadership', 'dead', 'self', 'imploding', 'bankrupt', 'financially', 'amp', 'social', 'chin', 'russia', 'have', 'now', 'teamed', 'amp', 'now', 'the', 'winter', 'olympics', 'over', 'hel', 'iwan', 'hina', 'amp', 'rus', 'stretch', 'the']}, 'tweet_text': 'the us world leadership is dead a self imploding bankrupt financially &amp; socially, china &amp; russia have now teamed up &amp; now the winter olympics is over heaven help taiwan as china &amp; russia stretch the us \\nhttps://t.co/zhyhycjd1j', 'sentiment': -0.024390243902439025, 'location': [{'full_name': 'Hay Point, Queensland', 'geo': {'type': 'Feature', 'bbox': [149.24287008, -21.3301113045, 149.29932592, -21.265803991], 'properties': {}}, 'id': '01cdbc1366e6ae16'}]}\n",
      "{'tweet_time': '2022-02-11 13:48:19', 'language_code': 'en', 'tweet_metrics': {'retweet_count': 0, 'reply_count': 0, 'like_count': 0, 'quote_count': 0}, 'tweet_tags': {'hashtags': [''], 'tokens': ['least', 'one', 'person', 'was', 'not', 'mongering', 'war', 'india', 'external', 'affairs', 'minister', 'has', 'split', 'from', 'his', 'quad', 'counterparts', 'over', 'the', 'threat', 'russian', 'invasion', 'ukraine', 'declaring', 'that', 'wants', 'the', 'group', 'focus', 'cooperation', 'and', 'collaboration', 'rather', 'than', 'confrontation']}, 'tweet_text': 'at least one person was not mongering war..\\n\\n\"india\\'s external affairs minister has split from his quad counterparts over the threat of a russian invasion in ukraine, declaring that he wants the group to focus on cooperation and collaboration rather than confrontation.\"', 'sentiment': -0.07142857142857142, 'location': [{'full_name': 'Canberra, Australian Capital Territory', 'geo': {'type': 'Feature', 'bbox': [148.9959216, -35.480260417, 149.263643456, -35.147699163], 'properties': {}}, 'id': '01e4b0c84959d430'}]}\n",
      "{'tweet_time': '2022-02-11 21:00:10', 'language_code': 'en', 'tweet_metrics': {'retweet_count': 0, 'reply_count': 0, 'like_count': 0, 'quote_count': 0}, 'tweet_tags': {'hashtags': [''], 'tokens': ['nato', 'was', 'never', 'going', 'give', 'moscow', 'demands', 'inc', 'withdrawal', '1997', 'borders', 'and', 'allowing', 'moscow', 'veto', 'over', 'future', 'nato', 'members', 'long', 'russia', 'issued', 'such', 'unreasonable', 'demands', 'and', 'showed', 'complete', 'inflexibility', 'their', 'diplomacy', 'there', 'were', 'never', 'any', 'off', 'ramps']}, 'tweet_text': '@emmamashford @lawdavf nato was never going to give in to moscow’s demands, inc. withdrawal to 1997 borders and allowing moscow a veto over future nato members. so long as russia issued such unreasonable demands and showed complete inflexibility in their diplomacy, there were never any off ramps.', 'sentiment': -0.10638297872340426, 'location': [{'full_name': 'Canberra, Australian Capital Territory', 'geo': {'type': 'Feature', 'bbox': [148.9959216, -35.480260417, 149.263643456, -35.147699163], 'properties': {}}, 'id': '01e4b0c84959d430'}]}\n",
      "{'tweet_time': '2022-02-11 21:07:59', 'language_code': 'en', 'tweet_metrics': {'retweet_count': 0, 'reply_count': 0, 'like_count': 0, 'quote_count': 0}, 'tweet_tags': {'hashtags': [''], 'tokens': ['the', 'russian', 'demands', 'were', 'unreasonable', 'that', 'was', 'inevitable', 'that', 'nato', 'would', 'refuse', 'them', 'thus', 'giving', 'putin', 'his', 'desired', 'justification', 'for', 'war', 'putin', 'genuinely', 'wanted', 'diplomatic', 'discussion', 'about', 'new', 'security', 'architecture', 'didn', 'need', 'threaten', 'ukraine', 'get', 'one']}, 'tweet_text': '@realcynicalfox @emmamashford the russian demands were so unreasonable that it was inevitable that nato would refuse them, thus giving putin his desired justification for war. if putin genuinely wanted a diplomatic discussion about a new security architecture he didn’t need to threaten ukraine to get one.', 'sentiment': -0.10869565217391304, 'location': [{'full_name': 'Canberra, Australian Capital Territory', 'geo': {'type': 'Feature', 'bbox': [148.9959216, -35.480260417, 149.263643456, -35.147699163], 'properties': {}}, 'id': '01e4b0c84959d430'}]}\n",
      "{'tweet_time': '2022-02-11 20:20:06', 'language_code': 'en', 'tweet_metrics': {'retweet_count': 0, 'reply_count': 0, 'like_count': 0, 'quote_count': 0}, 'tweet_tags': {'hashtags': [''], 'tokens': ['wants', 'nato', 'agree', 'not', 'admit', 'ukraine', 'into', 'nato', 'and', 'not', 'station', 'nato', 'troops', 'and', 'military', 'equipment', 'missiles', 'ukraine', 'russia', 'does', 'not', 'want', 'direct', 'military', 'threat', 'its', 'border', 'remember', 'the', 'cuban', 'missile', 'crisis', 'usa', 'didn', 'want', 'missiles', 'cuba']}, 'tweet_text': '@erosescs @snowden 2. wants nato to agree to not admit ukraine 🇺🇦 into nato and to not station nato or us troops and military equipment ie missiles  in ukraine. russia 🇷🇺 does not want a direct military threat on its border. remember the cuban missile crisis usa 🇺🇸 didn’t want missiles in cuba', 'sentiment': -0.05660377358490566, 'location': [{'full_name': 'Melbourne, Victoria', 'geo': {'type': 'Feature', 'bbox': [144.593741856, -38.433859306, 145.512528832, -37.5112737225], 'properties': {}}, 'id': '01864a8a64df9dc4'}]}\n",
      "{'tweet_time': '2022-02-11 23:28:55', 'language_code': 'en', 'tweet_metrics': {'retweet_count': 0, 'reply_count': 0, 'like_count': 0, 'quote_count': 0}, 'tweet_tags': {'hashtags': [''], 'tokens': ['stop', 'being', 'america', 'centric', 'the', 'world', 'doesn', 'revolve', 'around', 'the', 'usa', 'however', 'much', 'you', 'americans', 'delude', 'yourselves', 'putin', 'has', 'every', 'right', 'insist', 'that', 'doesn', 'want', 'amp', 'nato', 'forces', 'his', 'border', 'with', 'ukraine', 'and', 'look', 'atlas', 'and', 'you', 'will', 'understand']}, 'tweet_text': '@kathyle83811764 @erosescs @snowden stop being so america centric. the world 🌎 doesn’t revolve around the usa 🇺🇸 however much you americans delude yourselves. putin has every right to insist that he doesn’t  want us &amp; nato forces on his border with ukraine 🇺🇦. go and look in an atlas and you will understand.', 'sentiment': 0.018867924528301886, 'location': [{'full_name': 'Melbourne, Victoria', 'geo': {'type': 'Feature', 'bbox': [144.593741856, -38.433859306, 145.512528832, -37.5112737225], 'properties': {}}, 'id': '01864a8a64df9dc4'}]}\n",
      "{'tweet_time': '2022-02-11 20:50:43', 'language_code': 'en', 'tweet_metrics': {'retweet_count': 0, 'reply_count': 0, 'like_count': 0, 'quote_count': 0}, 'tweet_tags': {'hashtags': ['NATO'], 'tokens': ['have', 'two', 'more', 'such', 'lethal', 'autographed', 'bats', 'for', 'both', 'you', 'too', 'deploy', 'ours', 'senkaku', 'wonder', 'could', 'deploy', 'ours', 'ukraine', 'maybe', 'could', 'use', 'mine', 'for', 'the', 'elections']}, 'tweet_text': '@rory_medcalf @drsjaishankar \"i have two more such lethal @imvkohli autographed bats for both of you too!\"\\n@hayashiyoshima \"i\\'ll deploy ours on senkaku?\"\\n@secblinken \"wonder if #nato could deploy ours on ukraine?\"\\n@marisepayne \"maybe @scottmorrisonmp could use mine for the elections\"! 😁', 'sentiment': 0, 'location': [{'full_name': 'Brisbane, Queensland', 'geo': {'type': 'Feature', 'bbox': [152.668522848, -27.767440994, 153.31787024, -26.996844991], 'properties': {}}, 'id': '004ec16c62325149'}]}\n",
      "{'tweet_time': '2022-02-11 20:36:18', 'language_code': 'en', 'tweet_metrics': {'retweet_count': 0, 'reply_count': 0, 'like_count': 0, 'quote_count': 0}, 'tweet_tags': {'hashtags': [''], 'tokens': ['military', 'bases', 'doted', 'around', 'the', 'world', 'has', 'nato', 'been', 'expanding', 'ever', 'closer', 'towards', 'russia', 'and', 'the', 'former', 'soviet', 'states', 'since', 'the', 'fall', 'the', 'berlin', 'wall', 'amp', 'the', 'reunifaction', 'germany', 'really', 'surprising', 'that', 'putin', 'has', 'drawn', 'line', 'the', 'sand', 'ukraine', 'joining', 'nato']}, 'tweet_text': '2. military bases doted around the world? has nato been expanding ever closer towards russia 🇷🇺 and the former soviet states since the fall of the berlin wall &amp; the reunifaction of germany 🇩🇪?is it really surprising that putin has drawn a line in the sand at ukraine joining nato', 'sentiment': 0, 'location': [{'full_name': 'Melbourne, Victoria', 'geo': {'type': 'Feature', 'bbox': [144.593741856, -38.433859306, 145.512528832, -37.5112737225], 'properties': {}}, 'id': '01864a8a64df9dc4'}]}\n",
      "{'tweet_time': '2022-02-11 20:43:46', 'language_code': 'en', 'tweet_metrics': {'retweet_count': 0, 'reply_count': 0, 'like_count': 0, 'quote_count': 0}, 'tweet_tags': {'hashtags': [''], 'tokens': ['now', 'australia', 'meeting', 'with', 'our', 'foreign', 'minister', 'and', 'defence', 'officials', 'give', 'our', 'instructions', 'what', 'the', 'usa', 'expects', 'the', 'adf', 'when', 'they', 'provoke', 'russia', 'into', 'war', 'gulf', 'tonkin', 'incident', 'and', 'other', 'false', 'flag', 'operations', 'anyon']}, 'tweet_text': '3. @secblinken is now in australia meeting with our foreign minister and defence officials to give us our instructions on what the usa 🇺🇸 expects of the adf when they provoke russia 🇷🇺 into war. gulf of tonkin incident and other false flag operations anyone!! @bernardkeane @ap', 'sentiment': -0.0851063829787234, 'location': [{'full_name': 'Melbourne, Victoria', 'geo': {'type': 'Feature', 'bbox': [144.593741856, -38.433859306, 145.512528832, -37.5112737225], 'properties': {}}, 'id': '01864a8a64df9dc4'}]}\n",
      "{'tweet_time': '2022-02-11 20:49:52', 'language_code': 'en', 'tweet_metrics': {'retweet_count': 0, 'reply_count': 0, 'like_count': 0, 'quote_count': 0}, 'tweet_tags': {'hashtags': [''], 'tokens': ['the', 'china', 'russia', 'relationship', 'has', 'grown', 'into', 'big', 'ship', 'featuring', 'the', 'highest', 'degree', 'mutual', 'trust', 'the', 'highest', 'level', 'coordination', 'and', 'the', 'highest', 'strategic', 'value', 'the', 'helm', 'the', 'ship', 'are', 'the', 'two', 'heads', 'state']}, 'tweet_text': 'the china-russia relationship has grown into a big ship featuring the highest degree of mutual trust, the highest level of coordination and the highest strategic value. at the helm of the ship are the two heads of state.', 'sentiment': 0.05263157894736842, 'location': [{'full_name': 'Melbourne, Victoria', 'geo': {'type': 'Feature', 'bbox': [144.593741856, -38.433859306, 145.512528832, -37.5112737225], 'properties': {}}, 'id': '01864a8a64df9dc4'}]}\n",
      "{'tweet_time': '2022-02-11 20:53:37', 'language_code': 'en', 'tweet_metrics': {'retweet_count': 0, 'reply_count': 0, 'like_count': 0, 'quote_count': 0}, 'tweet_tags': {'hashtags': [''], 'tokens': ['the', 'combination', 'trust', 'and', 'the', 'common', 'goals', 'china', 'with', 'russia', 'will', 'greatly', 'assist', 'the', 'serious', 'development', 'world', 'peace', 'reason', 'for', 'the', 'world', 'celebrate']}, 'tweet_text': 'the combination of trust and the common goals of china with russia will greatly assist in the serious development of world ☮️ peace.\\na reason for the world to celebrate!', 'sentiment': 0.2, 'location': [{'full_name': 'Melbourne, Victoria', 'geo': {'type': 'Feature', 'bbox': [144.593741856, -38.433859306, 145.512528832, -37.5112737225], 'properties': {}}, 'id': '01864a8a64df9dc4'}]}\n",
      "{'tweet_time': '2022-02-11 20:51:00', 'language_code': 'en', 'tweet_metrics': {'retweet_count': 0, 'reply_count': 0, 'like_count': 0, 'quote_count': 0}, 'tweet_tags': {'hashtags': ['NATO'], 'tokens': ['have', 'two', 'more', 'such', 'lethal', 'autographed', 'bats', 'for', 'both', 'you', 'too', 'deploy', 'ours', 'senkaku', 'wonder', 'could', 'deploy', 'ours', 'ukraine', 'maybe', 'could', 'use', 'mine', 'for', 'the', 'elections']}, 'tweet_text': '@drsjaishankar \"i have two more such lethal @imvkohli autographed bats for both of you too!\"\\n@hayashiyoshima \"i\\'ll deploy ours on senkaku?\"\\n@secblinken \"wonder if #nato could deploy ours on ukraine?\"\\n@marisepayne \"maybe @scottmorrisonmp could use mine for the elections\"! 😁 https://t.co/j48m4zxolq', 'sentiment': 0, 'location': [{'full_name': 'Brisbane, Queensland', 'geo': {'type': 'Feature', 'bbox': [152.668522848, -27.767440994, 153.31787024, -26.996844991], 'properties': {}}, 'id': '004ec16c62325149'}]}\n",
      "{'tweet_time': '2022-02-11 22:55:46', 'language_code': 'en', 'tweet_metrics': {'retweet_count': 0, 'reply_count': 0, 'like_count': 0, 'quote_count': 0}, 'tweet_tags': {'hashtags': [''], 'tokens': ['india', 'external', 'affairs', 'minister', 'has', 'split', 'from', 'his', 'quad', 'counterparts', 'over', 'the', 'threat', 'russian', 'invasion', 'ukraine', 'declaring', 'that', 'wants', 'the', 'group', 'focus', 'cooperation', 'and', 'collaboration', 'rather', 'than', 'confrontation']}, 'tweet_text': \"india's external affairs minister has split from his quad counterparts over the threat of a russian invasion in ukraine, declaring that he wants the group to focus on cooperation and collaboration rather than confrontation.\\nhttps://t.co/ixhdetjcvi\", 'sentiment': -0.07894736842105263, 'location': [{'full_name': 'Melbourne, Victoria', 'geo': {'type': 'Feature', 'bbox': [144.593741856, -38.433859306, 145.512528832, -37.5112737225], 'properties': {}}, 'id': '01864a8a64df9dc4'}]}\n",
      "{'tweet_time': '2022-02-11 23:39:43', 'language_code': 'en', 'tweet_metrics': {'retweet_count': 0, 'reply_count': 0, 'like_count': 0, 'quote_count': 0}, 'tweet_tags': {'hashtags': [''], 'tokens': ['the', 'sydney', 'market', 'this', 'not', 'save', 'ukraine', 'for', 'long']}, 'tweet_text': '@danilic in the sydney market this not save ukraine for long.', 'sentiment': -0.18181818181818182, 'location': [{'full_name': 'Sydney, New South Wales', 'geo': {'type': 'Feature', 'bbox': [150.520928608, -34.1183470085, 151.343020992, -33.578140996], 'properties': {}}, 'id': '0073b76548e5984f'}]}\n",
      "{'tweet_time': '2022-02-11 23:35:45', 'language_code': 'en', 'tweet_metrics': {'retweet_count': 0, 'reply_count': 0, 'like_count': 0, 'quote_count': 0}, 'tweet_tags': {'hashtags': [''], 'tokens': ['wonder', 'why', 'people', 'once', 'said', 'the', 'ukraine', 'then', 'changed', 'you', 'know', 'why', 'please']}, 'tweet_text': \"@hrhcatherine i wonder why people once said, 'the ukraine' then it changed. do you know why, please?\", 'sentiment': 0.058823529411764705, 'location': [{'full_name': 'Sydney, New South Wales', 'geo': {'type': 'Feature', 'bbox': [150.520928608, -34.1183470085, 151.343020992, -33.578140996], 'properties': {}}, 'id': '0073b76548e5984f'}]}\n",
      "{'tweet_time': '2022-02-12 00:19:18', 'language_code': 'en', 'tweet_metrics': {'retweet_count': 0, 'reply_count': 0, 'like_count': 0, 'quote_count': 0}, 'tweet_tags': {'hashtags': [''], 'tokens': ['who', 'can', 'believe', 'the', 'reliability', 'this', 'news', 'organisation', 'any', 'longer', 'with', 'its', 'tabloid', 'headlines', 'woops', 'russia', 'has', 'invaded', 'ukraine', 'woops']}, 'tweet_text': '@business who can believe the reliability of this news organisation any longer, with its tabloid headlines woops \"russia has invaded ukraine\" woops', 'sentiment': 0.09090909090909091, 'location': [{'full_name': 'St Georges Basin - Sanctuary Point, New South Wales', 'geo': {'type': 'Feature', 'bbox': [150.571788, -35.1170810155, 150.643139296, -35.0703874225], 'properties': {}}, 'id': '00acc8145c47dda2'}]}\n",
      "{'tweet_time': '2022-02-12 06:14:31', 'language_code': 'en', 'tweet_metrics': {'retweet_count': 0, 'reply_count': 0, 'like_count': 0, 'quote_count': 0}, 'tweet_tags': {'hashtags': [''], 'tokens': ['1943', 'tehran', 'agreement', 'yalta', 'one', 'them', 'agreed', 'russia', 'having', 'buffer', 'zone', 'conveniently', 'forgotten', 'usa', 'and', 'usa', 'corporate', 'controlled', 'states', 'and']}, 'tweet_text': '@petercronau @amfoxall @abcaustralia 1943 tehran agreement, or yalta, one of them , agreed to russia having a buffer zone . conveniently forgotten by usa and usa corporate controlled states, and @abcnews', 'sentiment': 0.034482758620689655, 'location': [{'full_name': 'Melbourne, Victoria', 'geo': {'type': 'Feature', 'bbox': [144.593741856, -38.433859306, 145.512528832, -37.5112737225], 'properties': {}}, 'id': '01864a8a64df9dc4'}]}\n",
      "{'tweet_time': '2022-02-12 04:49:20', 'language_code': 'en', 'tweet_metrics': {'retweet_count': 0, 'reply_count': 0, 'like_count': 0, 'quote_count': 0}, 'tweet_tags': {'hashtags': [''], 'tokens': ['war', 'mongering', 'bastards', 'putin', 'has', 'delusions', 'grandeur', 'and', 'has', 'lost', 'his', 'senses', 'may', 'win', 'the', 'battle', 'but', 'can', 'never', 'win', 'the', 'war', 'ukraine', 'has', 'tasted', 'freedom', 'and', 'will', 'never', 'give', 'russia', 'heading', 'for', 'disaster', 'and', 'poverty', 'ultimately']}, 'tweet_text': '@indopac_info war mongering bastards. putin has delusions of grandeur and has lost his senses.  he may win the battle but he can never win the war.\\nukraine has tasted freedom and will never give up.  russia is heading for disaster and poverty ultimately.', 'sentiment': -0.18181818181818182, 'location': [{'full_name': 'Perth, Western Australia', 'geo': {'type': 'Feature', 'bbox': [115.617614368, -32.675715325, 116.239023008, -31.6244855145], 'properties': {}}, 'id': '0118c71c0ed41109'}]}\n",
      "{'tweet_time': '2022-02-12 22:23:56', 'language_code': 'en', 'tweet_metrics': {'retweet_count': 0, 'reply_count': 0, 'like_count': 0, 'quote_count': 0}, 'tweet_tags': {'hashtags': [''], 'tokens': ['the', 'soviet', 'union', 'has', 'disintegrated', 'and', 'putin', 'leads', 'much', 'diminished', 'and', 'poorer', 'russia', 'the', 'satellite', 'states', 'the', 'ussr', 'have', 'left', 'the', 'warsaw', 'pact', 'and', 'joined', 'the', 'amp', 'nato', 'russia', 'now', 'feels', 'threatened', 'nato', 'amp', 'simply', 'does', 'not', 'want', 'nato', 'amp', 'the', 'usa', 'borders']}, 'tweet_text': '@leviaphan5 @marxisteddybear @moozie147 @erosescs @snowden 4. the soviet union has disintegrated and putin leads a much diminished and poorer russia 🇷🇺. the satellite states of the ussr have left the warsaw pact and joined the eu &amp; nato. russia now feels threatened by nato &amp; simply does not want nato &amp; the usa 🇺🇸 at it’s borders.', 'sentiment': -0.08771929824561403, 'location': [{'full_name': 'Melbourne, Victoria', 'geo': {'type': 'Feature', 'bbox': [144.593741856, -38.433859306, 145.512528832, -37.5112737225], 'properties': {}}, 'id': '01864a8a64df9dc4'}]}\n",
      "{'tweet_time': '2022-02-12 14:32:18', 'language_code': 'en', 'tweet_metrics': {'retweet_count': 0, 'reply_count': 0, 'like_count': 0, 'quote_count': 0}, 'tweet_tags': {'hashtags': [''], 'tokens': ['just', 'look', 'the', 'big', 'picture', 'russia', 'china', 'amp', 'north', 'korea', 'are', 'commie', 'allies', 'all', 'their', 'leaders', 'are', 'loose', 'cannons', 'shit', 'about', 'get', 'real']}, 'tweet_text': '@kev_coys_ just look at the big picture. russia, china &amp; north korea are commie allies. all their leaders are loose cannons. shit’s about to get real.', 'sentiment': -0.07407407407407407, 'location': [{'full_name': 'Sydney, New South Wales', 'geo': {'type': 'Feature', 'bbox': [150.520928608, -34.1183470085, 151.343020992, -33.578140996], 'properties': {}}, 'id': '0073b76548e5984f'}]}\n",
      "{'tweet_time': '2022-02-12 03:37:52', 'language_code': 'en', 'tweet_metrics': {'retweet_count': 0, 'reply_count': 0, 'like_count': 0, 'quote_count': 0}, 'tweet_tags': {'hashtags': [''], 'tokens': ['the', 'administration', 'advice', 'leave', 'ukraine', 'asap', 'you', 'have', 'the', 'same', 'advice']}, 'tweet_text': '@dmytrokuleba @_hadleygamble @secblinken the us administration advice is to leave ukraine asap. do you have the same advice?', 'sentiment': -0.05263157894736842, 'location': [{'full_name': 'Sydney, New South Wales', 'geo': {'type': 'Feature', 'bbox': [150.520928608, -34.1183470085, 151.343020992, -33.578140996], 'properties': {}}, 'id': '0073b76548e5984f'}]}\n",
      "{'tweet_time': '2022-02-12 02:10:31', 'language_code': 'en', 'tweet_metrics': {'retweet_count': 0, 'reply_count': 0, 'like_count': 0, 'quote_count': 0}, 'tweet_tags': {'hashtags': [''], 'tokens': ['successful', 'syria', 'mess', 'russia', 'about', 'invade', 'ukraine', 'again', 'and', 'chechnya', 'run', 'brutal', 'puppet']}, 'tweet_text': '@grayconnolly successful?  syria is a mess.  russia is about to invade ukraine. again. and chechnya is run by a brutal puppet.', 'sentiment': -0.09523809523809523, 'location': [{'full_name': 'Melbourne, Victoria', 'geo': {'type': 'Feature', 'bbox': [144.593741856, -38.433859306, 145.512528832, -37.5112737225], 'properties': {}}, 'id': '01864a8a64df9dc4'}]}\n",
      "{'tweet_time': '2022-02-12 04:34:42', 'language_code': 'en', 'tweet_metrics': {'retweet_count': 0, 'reply_count': 0, 'like_count': 0, 'quote_count': 0}, 'tweet_tags': {'hashtags': [''], 'tokens': ['same', 'story', 'all', 'the', 'time', 'putin', 'said', 'will', 'not', 'invade', 'media', 'has', 'been', 'saying', 'russia', 'this', 'russia', 'that', 'this', 'for', 'months', 'all', 'they', 'doing', 'protecting', 'there', 'boarder', 'like', 'the', 'americans', 'need', 'protect', 'there', 'boarders']}, 'tweet_text': '@dafuqswiththis @wsj same story all the time putin said he will not invade. media has been saying russia this russia that this for 6 months. all they doing is protecting there boarder. like the americans need to protect there boarders', 'sentiment': 0.075, 'location': [{'full_name': 'Pakenham, Victoria', 'geo': {'type': 'Feature', 'bbox': [145.433933056, -38.091959363, 145.520447008, -38.049848072], 'properties': {}}, 'id': '0105d3f64774a9a1'}]}\n",
      "{'tweet_time': '2022-02-12 00:50:30', 'language_code': 'en', 'tweet_metrics': {'retweet_count': 0, 'reply_count': 0, 'like_count': 0, 'quote_count': 0}, 'tweet_tags': {'hashtags': [''], 'tokens': ['dow', 'drops', '500', 'points', 'fears', 'russian', 'attack', 'ukraine']}, 'tweet_text': 'dow drops 500 points on fears of a russian attack on ukraine\\n\\nhttps://t.co/krri5qzfdx', 'sentiment': -0.0625, 'location': [{'full_name': 'Victoria, Australia', 'geo': {'type': 'Feature', 'bbox': [140.961681976682, -39.1591895298437, 149.976679007421, -33.9804255797424], 'properties': {}}, 'id': '0ec0c4fcacbd0083'}]}\n",
      "{'tweet_time': '2022-02-12 01:20:12', 'language_code': 'en', 'tweet_metrics': {'retweet_count': 0, 'reply_count': 0, 'like_count': 0, 'quote_count': 0}, 'tweet_tags': {'hashtags': [''], 'tokens': ['biden', 'putin', 'speak', 'says', 'russia', 'could', 'invade', 'ukraine', 'during', 'olympics', 'abc', 'news', 'via']}, 'tweet_text': 'biden, putin to speak as us says russia could invade ukraine during olympics - abc news - https://t.co/1znowcepko via @abc', 'sentiment': 0, 'location': [{'full_name': 'Brisbane, Queensland', 'geo': {'type': 'Feature', 'bbox': [152.668522848, -27.767440994, 153.31787024, -26.996844991], 'properties': {}}, 'id': '004ec16c62325149'}]}\n",
      "{'tweet_time': '2022-02-12 03:04:19', 'language_code': 'en', 'tweet_metrics': {'retweet_count': 0, 'reply_count': 0, 'like_count': 0, 'quote_count': 0}, 'tweet_tags': {'hashtags': [''], 'tokens': ['not', 'agree', 'with', 'the', 'prissy', 'response', 'the', 'west', 'think', 'the', 'west', 'should', 'pressure', 'ukraine', 'give', 'crimea', 'which', 'was', 'never', 'part', 'ukraine', 'until', 'stalin', 'made', 'for', 'peace', 'harder']}, 'tweet_text': '@skynewsaust i do not agree with the prissy response of the west. i think the west should pressure ukraine to give up crimea which was never part of ukraine until stalin made it so for peace or go in harder.', 'sentiment': 0, 'location': [{'full_name': 'Sydney, New South Wales', 'geo': {'type': 'Feature', 'bbox': [150.520928608, -34.1183470085, 151.343020992, -33.578140996], 'properties': {}}, 'id': '0073b76548e5984f'}]}\n",
      "{'tweet_time': '2022-02-12 04:01:47', 'language_code': 'en', 'tweet_metrics': {'retweet_count': 0, 'reply_count': 0, 'like_count': 0, 'quote_count': 0}, 'tweet_tags': {'hashtags': [''], 'tokens': ['opposition', 'leader', 'anthony', 'albanese', 'says', 'there', 'place', 'for', 'any', 'attacks', 'sovereign', 'nation', 'amid', 'russia', 'ukraine', 'tensions']}, 'tweet_text': '@skynewsaust opposition leader anthony albanese says there is “no place for any attacks on a sovereign nation” amid russia-ukraine tensions.', 'sentiment': -0.05, 'location': [{'full_name': 'Melbourne, Victoria', 'geo': {'type': 'Feature', 'bbox': [144.593741856, -38.433859306, 145.512528832, -37.5112737225], 'properties': {}}, 'id': '01864a8a64df9dc4'}]}\n",
      "{'tweet_time': '2022-02-12 03:26:24', 'language_code': 'en', 'tweet_metrics': {'retweet_count': 0, 'reply_count': 0, 'like_count': 0, 'quote_count': 0}, 'tweet_tags': {'hashtags': [''], 'tokens': ['they', 'all', 'evil', 'but', 'russia', 'and', 'china', 'are', 'especially', 'evil', 'because', 'their', 'govts', 'can', 'only', 'overthrown', 'bloodshed', 'surely']}, 'tweet_text': \"they're all evil but russia and china are especially evil because their govts. can only be overthrown by bloodshed,surely ? https://t.co/hab26cmjck\", 'sentiment': -0.25, 'location': [{'full_name': 'Perth, Western Australia', 'geo': {'type': 'Feature', 'bbox': [115.617614368, -32.675715325, 116.239023008, -31.6244855145], 'properties': {}}, 'id': '0118c71c0ed41109'}]}\n",
      "{'tweet_time': '2022-02-12 03:44:00', 'language_code': 'en', 'tweet_metrics': {'retweet_count': 0, 'reply_count': 1, 'like_count': 0, 'quote_count': 0}, 'tweet_tags': {'hashtags': [''], 'tokens': ['think', 'understand', 'some', 'the', 'motivations', 'for', 'your', 'decision', 'place', 'your', 'forces', 'adjacent', 'the', 'ukraine', 'border', 'guess', 'that', 'driven', 'economic', 'factors', 'weakening', 'russia', 'economy', 'goal', 'the', 'west', 'and', 'has', 'been', 'for', 'long', 'time']}, 'tweet_text': \"2/-\\n\\ni think i understand some of the motivations for your decision to place your forces adjacent to the ukraine border. my guess is that's driven by economic factors. weakening russia's economy is a goal of the west and has been for a long time,\", 'sentiment': 0, 'location': [{'full_name': 'Brisbane, Queensland', 'geo': {'type': 'Feature', 'bbox': [152.668522848, -27.767440994, 153.31787024, -26.996844991], 'properties': {}}, 'id': '004ec16c62325149'}]}\n",
      "{'tweet_time': '2022-02-12 03:44:01', 'language_code': 'en', 'tweet_metrics': {'retweet_count': 0, 'reply_count': 1, 'like_count': 0, 'quote_count': 0}, 'tweet_tags': {'hashtags': [''], 'tokens': ['understand', 'why', 'you', 'wouldn', 'want', 'ukraine', 'join', 'the', 'nato', 'the', 'americans', 'that', 'would', 'like', 'parking', 'handful', 'russian', 'subs', 'carrying', 'nuclear', 'weapons', 'new', 'york', 'harbour', 'amp', 'they', 'wouldn', 'like', 'that', 'you', 'have', 'the', 'moral', 'high', 'ground', 'that', 'argument', 'please', 'don', 'waste']}, 'tweet_text': \"4/-\\n\\ni understand why you wouldn't want ukraine to join the nato. to the americans  that would be like parking a handful of russian subs carrying nuclear weapons in new york harbour &amp; they wouldn't like that. you have the moral high ground o  that argument. please don't waste it.\", 'sentiment': 0.1568627450980392, 'location': [{'full_name': 'Brisbane, Queensland', 'geo': {'type': 'Feature', 'bbox': [152.668522848, -27.767440994, 153.31787024, -26.996844991], 'properties': {}}, 'id': '004ec16c62325149'}]}\n",
      "{'tweet_time': '2022-02-12 04:01:21', 'language_code': 'en', 'tweet_metrics': {'retweet_count': 0, 'reply_count': 0, 'like_count': 0, 'quote_count': 0}, 'tweet_tags': {'hashtags': ['geopolitics'], 'tokens': ['last', 'time', 'russia', 'went', 'war', 'around', 'august', '2008', 'the', 'crimean', 'invasion', 'was', '2014', 'and', 'now', 'again', '2022', 'what', 'the', 'common', 'denominator', 'olympics', 'putin', 'sees', 'large', 'sports', 'events', 'convenient', 'distraction', 'for', 'the', 'masses']}, 'tweet_text': 'last time russia went to war around 8 august 2008, the crimean invasion was in 2014, and now again in 2022 - what’s the common denominator? \\n\\nolympics. \\n\\nputin sees large sports events as a convenient distraction for the masses. 🤷🏽\\u200d♂️ #geopolitics', 'sentiment': -0.12195121951219512, 'location': [{'full_name': 'Brisbane, Queensland', 'geo': {'type': 'Feature', 'bbox': [152.668522848, -27.767440994, 153.31787024, -26.996844991], 'properties': {}}, 'id': '004ec16c62325149'}]}\n",
      "{'tweet_time': '2022-02-12 07:13:46', 'language_code': 'en', 'tweet_metrics': {'retweet_count': 0, 'reply_count': 0, 'like_count': 0, 'quote_count': 0}, 'tweet_tags': {'hashtags': [''], 'tokens': ['watched', 'show', 'about', 'human', 'cloning', 'feel', 'sick', 'because', 'its', 'been', 'going', 'since', 'world', 'war', 'russia', 'they', 'had', 'dad', 'and', 'his', 'family', 'prisoners', 'dad', 'ended', 'fighting', 'for', 'russia', 'saved', 'the', 'monte', 'cassino', 'for', 'italy', 'and', 'some', 'his', 'men', 'the', 'same', 'time', 'italy', 'decorated', 'him', 'for', 'heroism']}, 'tweet_text': 'i watched a show about human cloning i feel sick because its been going on since world war 2 russia they had my dad and his family prisoners ,  dad ended up fighting for russia saved the monte cassino for italy and some of his men at the same time italy decorated him for heroism https://t.co/htvx28dxgu', 'sentiment': -0.10344827586206896, 'location': [{'full_name': 'Adelaide, South Australia', 'geo': {'type': 'Feature', 'bbox': [138.44212992, -35.348970061, 138.780189824, -34.652564053], 'properties': {}}, 'id': '01e8a1a140ccdc5c'}]}\n",
      "{'tweet_time': '2022-02-12 08:31:45', 'language_code': 'en', 'tweet_metrics': {'retweet_count': 0, 'reply_count': 0, 'like_count': 0, 'quote_count': 0}, 'tweet_tags': {'hashtags': [''], 'tokens': ['who', 'said', 'russia', 'cannot', 'influence', 'the', 'world', 'elections', '000']}, 'tweet_text': \"who said russia cannot influence the world's elections 000\", 'sentiment': 0, 'location': [{'full_name': 'Sydney, New South Wales', 'geo': {'type': 'Feature', 'bbox': [150.520928608, -34.1183470085, 151.343020992, -33.578140996], 'properties': {}}, 'id': '0073b76548e5984f'}]}\n",
      "{'tweet_time': '2022-02-12 09:50:22', 'language_code': 'en', 'tweet_metrics': {'retweet_count': 0, 'reply_count': 0, 'like_count': 0, 'quote_count': 0}, 'tweet_tags': {'hashtags': ['putin', 'china', 'winterolympics', 'badnews', 'notanotherwar'], 'tokens': ['pretty', 'transparent', 'that', 'going', 'invade', 'ukraine', 'has', 'allowed', 'the', 'get', 'off', 'without', 'hitch', 'but', 'now', 'just', 'days', 'really', 'hope', 'wro', 'rwar']}, 'tweet_text': 'pretty transparent that #putin is going to invade ukraine. 😞\\nhas allowed the #china #winterolympics  to get off without a hitch but now just days 😞😞😞 really hope i am wrong.\\n#badnews #notanotherwar 😞', 'sentiment': -0.029411764705882353, 'location': [{'full_name': 'Sydney, New South Wales', 'geo': {'type': 'Feature', 'bbox': [150.520928608, -34.1183470085, 151.343020992, -33.578140996], 'properties': {}}, 'id': '0073b76548e5984f'}]}\n",
      "{'tweet_time': '2022-02-12 10:28:16', 'language_code': 'en', 'tweet_metrics': {'retweet_count': 0, 'reply_count': 0, 'like_count': 0, 'quote_count': 0}, 'tweet_tags': {'hashtags': [''], 'tokens': ['brother', 'thinks', 'the', 'chinese', 'may', 'have', 'dig', 'their', 'nearby', 'island', 'day', 'russia', 'invade', 'hope', 'wrong', 'the', 'can', 'afford', 'major', 'problems', 'they', 'may', 'step', 'away', 'russia', 'and', 'china', 'probably', 'anticipate']}, 'tweet_text': \"@mikecheck1two12 @paulmeekperth my brother thinks the chinese may have a dig at their nearby island a day or so if russia invade. hope he is wrong. the us can't afford 2 major problems, they may step away as russia and china probably anticipate.\", 'sentiment': -0.046511627906976744, 'location': [{'full_name': 'Perth, Western Australia', 'geo': {'type': 'Feature', 'bbox': [115.617614368, -32.675715325, 116.239023008, -31.6244855145], 'properties': {}}, 'id': '0118c71c0ed41109'}]}\n",
      "{'tweet_time': '2022-02-12 13:01:11', 'language_code': 'en', 'tweet_metrics': {'retweet_count': 0, 'reply_count': 0, 'like_count': 0, 'quote_count': 0}, 'tweet_tags': {'hashtags': [''], 'tokens': ['this', 'thread', 'support', 'ukraine', 'but', 'all', 'can', 'see', 'land', 'grants']}, 'tweet_text': \"this is a thread in support of ukraine but all i can see is 'land grants' https://t.co/0ptd7dxoxo\", 'sentiment': 0.1, 'location': [{'full_name': 'Toowoomba, Queensland', 'geo': {'type': 'Feature', 'bbox': [151.86060288, -27.654121464, 151.993162368, -27.493059206], 'properties': {}}, 'id': '01f97e1230f068f8'}]}\n",
      "{'tweet_time': '2022-02-12 21:48:03', 'language_code': 'en', 'tweet_metrics': {'retweet_count': 0, 'reply_count': 0, 'like_count': 0, 'quote_count': 0}, 'tweet_tags': {'hashtags': [''], 'tokens': ['this', 'isn', 'about', 'economics', 'have', 'listen', 'russia', 'you', 'listening', 'doomsday', 'watch', 'know', 'sounds', 'dramatic', 'episode', 'putin']}, 'tweet_text': \"@moistenedtart @lynxraide this isn't about economics.\\nhave a listen to:\\nrussia, if you're listening\\ndoomsday watch (i know, sounds dramatic) episode on putin.\", 'sentiment': 0, 'location': [{'full_name': 'Maitland (NSW), New South Wales', 'geo': {'type': 'Feature', 'bbox': [151.472131968, -32.817630009, 151.707208672, -32.6781300005], 'properties': {}}, 'id': '01829171204d2d64'}]}\n",
      "{'tweet_time': '2022-02-12 14:19:07', 'language_code': 'en', 'tweet_metrics': {'retweet_count': 0, 'reply_count': 0, 'like_count': 0, 'quote_count': 0}, 'tweet_tags': {'hashtags': [''], 'tokens': ['russians', 'being', 'the', 'border', 'ukraine', 'geographic', 'thing', 'they', 'share', 'border']}, 'tweet_text': '@mahmoudkenny98 @newsjohnson russians being on the border of ukraine is a geographic thing. they share a border', 'sentiment': 0.058823529411764705, 'location': [{'full_name': 'Brisbane, Queensland', 'geo': {'type': 'Feature', 'bbox': [152.668522848, -27.767440994, 153.31787024, -26.996844991], 'properties': {}}, 'id': '004ec16c62325149'}]}\n",
      "{'tweet_time': '2022-02-12 14:55:11', 'language_code': 'en', 'tweet_metrics': {'retweet_count': 0, 'reply_count': 0, 'like_count': 0, 'quote_count': 0}, 'tweet_tags': {'hashtags': [''], 'tokens': ['stop', 'the', 'war', 'drums', 'neither', 'china', 'nor', 'russia', 'will', 'attack', 'you', 'leave', 'them', 'alone', 'these', 'countries', 'are', 'now', 'united', 'the', 'power', 'substantial', 'get', 'out', 'ukraine', 'you', 'are', 'doing', 'more', 'harm', 'than', 'good', 'shut', 'the', 'hell', 'about', 'wars', 'stop', 'frightening', 'australians']}, 'tweet_text': '@peterdutton_mp stop the war drums. neither china nor russia will attack if you leave them alone. these countries are now united so the power is substantial. get out of ukraine you are doing more harm than good.shut the hell up about us wars!stop frightening australians! https://t.co/70krileknx', 'sentiment': -0.23076923076923078, 'location': [{'full_name': 'Melbourne, Victoria', 'geo': {'type': 'Feature', 'bbox': [144.593741856, -38.433859306, 145.512528832, -37.5112737225], 'properties': {}}, 'id': '01864a8a64df9dc4'}]}\n",
      "{'tweet_time': '2022-02-12 20:30:03', 'language_code': 'en', 'tweet_metrics': {'retweet_count': 0, 'reply_count': 0, 'like_count': 0, 'quote_count': 0}, 'tweet_tags': {'hashtags': [''], 'tokens': ['they', 'won', 'ban', 'one', 'their', 'largest', 'competing', 'countries', 'that', 'brings', 'large', 'audience', 'china', 'usa', 'and', 'russia', 'are', 'free', 'from', 'the', 'bans', 'smaller', 'nations', 'would', 'cop']}, 'tweet_text': \"@vikingnation28 they won't ban one of their largest competing countries that brings a large audience.\\n\\nchina, usa and russia are free from the bans smaller nations would cop\", 'sentiment': 0.10714285714285714, 'location': [{'full_name': 'Melbourne, Victoria', 'geo': {'type': 'Feature', 'bbox': [144.593741856, -38.433859306, 145.512528832, -37.5112737225], 'properties': {}}, 'id': '01864a8a64df9dc4'}]}\n",
      "{'tweet_time': '2022-02-12 20:57:00', 'language_code': 'en', 'tweet_metrics': {'retweet_count': 0, 'reply_count': 0, 'like_count': 0, 'quote_count': 0}, 'tweet_tags': {'hashtags': [''], 'tokens': ['biden', 'warns', 'putin', 'severe', 'costs', 'ukraine', 'invasion', 'phone', 'call']}, 'tweet_text': 'biden warns putin of ‘severe costs’ of ukraine invasion in phone call https://t.co/bszgvfdjpl', 'sentiment': -0.1875, 'location': [{'full_name': 'Melbourne, Victoria', 'geo': {'type': 'Feature', 'bbox': [144.593741856, -38.433859306, 145.512528832, -37.5112737225], 'properties': {}}, 'id': '01864a8a64df9dc4'}]}\n",
      "{'tweet_time': '2022-02-12 21:11:56', 'language_code': 'en', 'tweet_metrics': {'retweet_count': 0, 'reply_count': 0, 'like_count': 0, 'quote_count': 0}, 'tweet_tags': {'hashtags': [''], 'tokens': ['nations', 'advising', 'leave', 'now', 'ukraine', 'tensions', 'dozen', 'nations', 'tell', 'citizens', 'leave', 'ukraine']}, 'tweet_text': 'nations advising \"leave now\". \\nukraine tensions: a dozen nations tell citizens to leave ukraine\\nhttps://t.co/5dtf8au6vz', 'sentiment': -0.1111111111111111, 'location': [{'full_name': 'Sydney, New South Wales', 'geo': {'type': 'Feature', 'bbox': [150.520928608, -34.1183470085, 151.343020992, -33.578140996], 'properties': {}}, 'id': '0073b76548e5984f'}]}\n",
      "{'tweet_time': '2022-02-12 21:25:21', 'language_code': 'en', 'tweet_metrics': {'retweet_count': 0, 'reply_count': 0, 'like_count': 0, 'quote_count': 0}, 'tweet_tags': {'hashtags': [''], 'tokens': ['politics', 'urging', 'and', 'goading', 'putin', 'invade', 'very', 'dangerous', 'prime', 'minister', 'again', 'warns', 'australians', 'flee', 'ukraine']}, 'tweet_text': 'politics is urging and goading putin to invade.       ‘very dangerous’: prime minister again warns australians to flee ukraine https://t.co/rffz71ikwi', 'sentiment': -0.09090909090909091, 'location': [{'full_name': 'Victoria, Australia', 'geo': {'type': 'Feature', 'bbox': [140.961681976682, -39.1591895298437, 149.976679007421, -33.9804255797424], 'properties': {}}, 'id': '0ec0c4fcacbd0083'}]}\n",
      "{'tweet_time': '2022-02-12 21:26:03', 'language_code': 'en', 'tweet_metrics': {'retweet_count': 0, 'reply_count': 0, 'like_count': 0, 'quote_count': 0}, 'tweet_tags': {'hashtags': [''], 'tokens': ['the', 'edge', 'war', 'what', 'exactly', 'does', 'putin', 'want', 'ukraine']}, 'tweet_text': 'the edge of war: what, exactly, does putin want in ukraine? https://t.co/tfwv2u7tmw', 'sentiment': -0.06666666666666667, 'location': [{'full_name': 'Melbourne, Victoria', 'geo': {'type': 'Feature', 'bbox': [144.593741856, -38.433859306, 145.512528832, -37.5112737225], 'properties': {}}, 'id': '01864a8a64df9dc4'}]}\n",
      "{'tweet_time': '2022-02-12 21:40:11', 'language_code': 'en', 'tweet_metrics': {'retweet_count': 0, 'reply_count': 0, 'like_count': 0, 'quote_count': 0}, 'tweet_tags': {'hashtags': [''], 'tokens': ['father', 'has', 'papers', 'yet', 'for', 'new', 'son', 'this', 'delays', 'family', 'departure', 'from', 'probable', 'war', 'zone', 'ukraine', 'crisis', 'don', 'have', 'the', 'option', 'leave']}, 'tweet_text': \"uk father has no papers yet for new son - this delays family departure from probable 'war zone'.\\nukraine crisis: 'we don't have the option to leave' @bbcnews\\nhttps://t.co/odfhn5jsgs\", 'sentiment': -0.125, 'location': [{'full_name': 'Sydney, New South Wales', 'geo': {'type': 'Feature', 'bbox': [150.520928608, -34.1183470085, 151.343020992, -33.578140996], 'properties': {}}, 'id': '0073b76548e5984f'}]}\n",
      "{'tweet_time': '2022-02-12 22:01:41', 'language_code': 'en', 'tweet_metrics': {'retweet_count': 0, 'reply_count': 0, 'like_count': 0, 'quote_count': 0}, 'tweet_tags': {'hashtags': [''], 'tokens': ['how', 'many', 'times', 'over', 'the', 'past', 'few', 'weeks', 'has', 'the', 'msm', 'been', 'telling', 'any', 'day', 'now', 'ukraine', 'will', 'invaded', 'russia', 'maybe', 'tomorrow', 'this', 'divert', 'the', 'attention', 'away', 'from', 'morrison', 'blunders']}, 'tweet_text': \"how many times over the past few weeks has the msm been telling us any day now ukraine will be invaded by russia maybe tomorrow?.. is this to divert the attention away from morrison's blunders? 😳\", 'sentiment': 0, 'location': [{'full_name': 'Brisbane, Queensland', 'geo': {'type': 'Feature', 'bbox': [152.668522848, -27.767440994, 153.31787024, -26.996844991], 'properties': {}}, 'id': '004ec16c62325149'}]}\n",
      "{'tweet_time': '2022-02-12 22:30:37', 'language_code': 'en', 'tweet_metrics': {'retweet_count': 0, 'reply_count': 0, 'like_count': 0, 'quote_count': 0}, 'tweet_tags': {'hashtags': [''], 'tokens': ['know', 'this', 'from', 'the', 'beginning', 'clinton', 'campaign', 'paid', 'infiltrate', 'trump', 'tower', 'white', 'house', 'servers', 'link', 'trump', 'russia', 'durham']}, 'tweet_text': \"we've know this from the beginning... \\ncc: @maddow @cnn\\nclinton campaign paid to 'infiltrate' trump tower, white house servers to link trump to russia: durham\\n\\nhttps://t.co/vzir9qm324\", 'sentiment': 0, 'location': [{'full_name': 'New South Wales, Australia', 'geo': {'type': 'Feature', 'bbox': [140.999474522999, -37.5050599967256, 159.109219005872, -28.1570199141289], 'properties': {}}, 'id': '265b933184e2b88a'}]}\n",
      "{'tweet_time': '2022-02-13 20:50:32', 'language_code': 'pl', 'tweet_metrics': {'retweet_count': 0, 'reply_count': 0, 'like_count': 0, 'quote_count': 0}, 'tweet_tags': {'hashtags': [''], 'tokens': ['russia', 'needs', 'navalny', 'now']}, 'tweet_text': '@cntrentf24 russia needs navalny now.', 'sentiment': 0, 'location': [{'full_name': 'Victoria, Australia', 'geo': {'type': 'Feature', 'bbox': [140.961681976682, -39.1591895298437, 149.976679007421, -33.9804255797424], 'properties': {}}, 'id': '0ec0c4fcacbd0083'}]}\n",
      "{'tweet_time': '2022-02-13 01:42:23', 'language_code': 'en', 'tweet_metrics': {'retweet_count': 0, 'reply_count': 0, 'like_count': 0, 'quote_count': 0}, 'tweet_tags': {'hashtags': [''], 'tokens': ['are', 'you', 'tweeting', 'from', 'communist', 'china', 'russia', 'your', 'disinformation', 'lines', 'seem', 'familiar']}, 'tweet_text': '@pike3792 @jemaverick @chachac87311797 are you tweeting from communist china or russia? your disinformation lines seem familiar.', 'sentiment': 0, 'location': [{'full_name': 'Melbourne, Victoria', 'geo': {'type': 'Feature', 'bbox': [144.593741856, -38.433859306, 145.512528832, -37.5112737225], 'properties': {}}, 'id': '01864a8a64df9dc4'}]}\n",
      "{'tweet_time': '2022-02-13 00:23:25', 'language_code': 'en', 'tweet_metrics': {'retweet_count': 0, 'reply_count': 0, 'like_count': 0, 'quote_count': 0}, 'tweet_tags': {'hashtags': [''], 'tokens': ['fine', 'form', 'this', 'week', 'also', 'told', 'putin', 'back', 'off', 'the', 'sad', 'thing', 'about', 'this', 'really', 'believes', 'that', 'putin', 'will', 'now', 'take', 'away', 'his', '130', '000', 'troops', 'from', 'the', 'border', 'ukraine', 'and', 'home', 'also', 'unbelievable', 'amp', 'for', 'fleeting', 'moment', 'was', 'looking', 'promisin', 'f35']}, 'tweet_text': '@trevorcarden2 oh he\\'s in fine form this week, he also told putin to \"back off\" 🤣🤣🤣 the sad thing about this is, he really believes that putin will now take away his 130,000+ troops from the border of ukraine and go home also, unbelievable, &amp; for a fleeting moment, he was looking promising. https://t.co/kxj03kff35', 'sentiment': -0.017241379310344827, 'location': [{'full_name': 'Central Coast, New South Wales', 'geo': {'type': 'Feature', 'bbox': [151.283033728, -33.550008009, 151.601962752, -33.1432859715], 'properties': {}}, 'id': '00f5fcca24e69fe7'}]}\n",
      "{'tweet_time': '2022-02-13 03:10:31', 'language_code': 'it', 'tweet_metrics': {'retweet_count': 0, 'reply_count': 0, 'like_count': 0, 'quote_count': 0}, 'tweet_tags': {'hashtags': [''], 'tokens': ['china', 'russia', 'america']}, 'tweet_text': '@agoristn @misha_saul china / russia = 👹 👹\\n\\namerica / us = 🦸🦸\\u200d♀️', 'sentiment': 0, 'location': [{'full_name': 'Gold Coast, Queensland', 'geo': {'type': 'Feature', 'bbox': [153.186551712, -28.2003171475, 153.552171232, -27.708126368], 'properties': {}}, 'id': '017453ae077eafd3'}]}\n",
      "{'tweet_time': '2022-02-13 00:03:56', 'language_code': 'en', 'tweet_metrics': {'retweet_count': 0, 'reply_count': 0, 'like_count': 0, 'quote_count': 0}, 'tweet_tags': {'hashtags': [''], 'tokens': ['cannot', 'rely', 'the', 'constant', 'calls', 'for', 'war', 'you', 'misrepresent', 'the', 'need', 'for', 'war', 'let', 'other', 'countries', 'sort', 'out', 'their', 'differences', 'have', 'caused', 'irreparable', 'harm', 'simply', 'not', 'minding', 'our', 'own', 'business', 'leave', 'ukraine', 'alone']}, 'tweet_text': 'we cannot rely on the constant calls for war @peterdutton_mp  you misrepresent the need for war! let other countries sort out their differences. we have caused irreparable harm by simply not minding our own business. leave ukraine alone. https://t.co/si4qwzpyoe https://t.co/yzxis273t0', 'sentiment': -0.2765957446808511, 'location': [{'full_name': 'Melbourne, Victoria', 'geo': {'type': 'Feature', 'bbox': [144.593741856, -38.433859306, 145.512528832, -37.5112737225], 'properties': {}}, 'id': '01864a8a64df9dc4'}]}\n",
      "{'tweet_time': '2022-02-13 03:17:36', 'language_code': 'en', 'tweet_metrics': {'retweet_count': 0, 'reply_count': 0, 'like_count': 0, 'quote_count': 0}, 'tweet_tags': {'hashtags': [''], 'tokens': ['russia', 'emboldened', 'after', 'four', 'years', 'incompetent', 'tool', 'the', 'presidency']}, 'tweet_text': '@foxnews russia emboldened after four years of an incompetent tool in the presidency!', 'sentiment': -0.15384615384615385, 'location': [{'full_name': 'Melbourne, Victoria', 'geo': {'type': 'Feature', 'bbox': [144.593741856, -38.433859306, 145.512528832, -37.5112737225], 'properties': {}}, 'id': '01864a8a64df9dc4'}]}\n",
      "{'tweet_time': '2022-02-13 01:04:46', 'language_code': 'en', 'tweet_metrics': {'retweet_count': 0, 'reply_count': 0, 'like_count': 0, 'quote_count': 0}, 'tweet_tags': {'hashtags': [''], 'tokens': ['ukraine', 'obvs', 'serious', 'but', 'relatively', 'low', 'cost', 'trolling', 'cause', 'disruption', 'inconvenience', 'and', 'expense', 'orderly', 'societies', 'wouldn', 'totally', 'out', 'character', 'for', 'putin', 'regime', 'either']}, 'tweet_text': \"ukraine obvs v. serious, but relatively low-cost trolling to cause disruption, inconvenience and expense to orderly societies wouldn't be totally out of character for putin regime either\", 'sentiment': -0.14814814814814814, 'location': [{'full_name': 'Sydney, New South Wales', 'geo': {'type': 'Feature', 'bbox': [150.520928608, -34.1183470085, 151.343020992, -33.578140996], 'properties': {}}, 'id': '0073b76548e5984f'}]}\n"
     ]
    }
   ],
   "source": [
    "with open('twitter-huge.json', 'r') as file:\n",
    "    for index, text in enumerate(file):\n",
    "        if index != 0:\n",
    "            line = json.loads(text[:-2])\n",
    "            if line['doc']['data']['geo'] != {}:\n",
    "                try:\n",
    "                    tweet = extract_tweet_info(line)\n",
    "                    if any(kw in tweet['tweet_tags']['tokens'] for kw in keyword):\n",
    "                        print(tweet)\n",
    "                except KeyError:\n",
    "                    pass\n",
    "        if index == 1000000:\n",
    "            break\n"
   ]
  },
  {
   "cell_type": "code",
   "execution_count": null,
   "metadata": {},
   "outputs": [],
   "source": []
  }
 ],
 "metadata": {
  "kernelspec": {
   "display_name": "base",
   "language": "python",
   "name": "python3"
  },
  "language_info": {
   "codemirror_mode": {
    "name": "ipython",
    "version": 3
   },
   "file_extension": ".py",
   "mimetype": "text/x-python",
   "name": "python",
   "nbconvert_exporter": "python",
   "pygments_lexer": "ipython3",
   "version": "3.9.2"
  },
  "orig_nbformat": 4
 },
 "nbformat": 4,
 "nbformat_minor": 2
}

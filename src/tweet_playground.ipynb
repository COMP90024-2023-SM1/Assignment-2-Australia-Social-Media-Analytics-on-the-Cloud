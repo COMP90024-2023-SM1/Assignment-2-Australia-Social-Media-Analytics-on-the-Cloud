{
 "cells": [
  {
   "cell_type": "code",
   "execution_count": 7,
   "metadata": {},
   "outputs": [],
   "source": [
    "import json\n",
    "import os"
   ]
  },
  {
   "cell_type": "code",
   "execution_count": 6,
   "metadata": {},
   "outputs": [
    {
     "name": "stdout",
     "output_type": "stream",
     "text": [
      "@_Cristian_Vlad_ @PenelopeRuzy @sadino22 @130629130629 @Margaret_Krac @Scorpianking50 @CherrylezamaPaz @Verywimp @AnatCastle @StefanSubotic91 @ArHokum @MalikaAkram14 @JohnKish20 @EehHorn @TopogigioRini @maype7 @mmjoymm_StP @santer_karen @appoline85 @lynda3035 @poupouch48 @ElveroW @leeduca @blakiecarmen @TapardeaA @promorama39 @MoishesMom @Pho2oart @Masterc97659979 @Eva82040306 @DianeK23502279 @christelaaldrs @Chandra1Vinod @twistabout @yazidyaks @111ayasuko @kelly_rdc @KarenBarryDavi1 @cookiemutt @47X4GyQMc5Xbi31 @dew_frank @SLARTZONE @crea_bea_5 @dailyreport4me @BrianCapry @TammyJLemley @lausaysmeow @oftadrian @Gatuzs Happy #Purrsday to you as well! 💚\n",
      "@KellyODwyer @bridgetarcher @sallymcmanus ICAC? What is the #LNPCorruptionParty #LNPCrimeFamily afraid of?\n",
      "@ScottMorrisonMP Scott you appear to be campaigning? Have you called an election? If not doesn't this go against our laws? Campaigning on the tax payers dime?  #auspol #ScottyFromMarketing\n",
      "@ScottMorrisonMP @RonniSalt Using your wife to fish for insults to take offence at is a bit much, #ScottyTheCreep ..... will you be getting the girls out again if the response disappoints?\n",
      "#auspol\n"
     ]
    }
   ],
   "source": [
    "with open('../data/twitter-huge.json', 'r') as file:\n",
    "    for index, text in enumerate(file):\n",
    "        if index != 0:\n",
    "            text = json.loads(text[:-2])\n",
    "            if text['value']['tags'] != '':\n",
    "                print(text['doc']['data']['text'])\n",
    "        if index == 100:\n",
    "            break"
   ]
  },
  {
   "cell_type": "code",
   "execution_count": 5,
   "metadata": {},
   "outputs": [
    {
     "data": {
      "text/plain": [
       "['auspol', 'ScottyFromMarketing']"
      ]
     },
     "execution_count": 5,
     "metadata": {},
     "output_type": "execute_result"
    }
   ],
   "source": [
    "'auspol|ScottyFromMarketing'.split('|')"
   ]
  },
  {
   "cell_type": "code",
   "execution_count": 8,
   "metadata": {},
   "outputs": [
    {
     "name": "stdout",
     "output_type": "stream",
     "text": [
      "52 7900136492\n",
      "7900136492 15800273362\n",
      "15800273362 23700410858\n",
      "23700410858 31600547649\n",
      "31600547649 39500684386\n",
      "39500684386 47400821157\n",
      "47400821157 55300958364\n",
      "55300958364 63201091459\n"
     ]
    }
   ],
   "source": [
    "dataset_size = os.path.getsize('../data/twitter-huge.json')\n",
    "size_per_core = dataset_size / 8\n",
    "\n",
    "\n",
    "with open('../data/twitter-huge.json', 'r', encoding='utf-8') as file:\n",
    "    # Read pass the first line\n",
    "    file.readline()\n",
    "    block_end = file.tell()\n",
    "\n",
    "    while True:\n",
    "        block_start = block_end\n",
    "        file.seek(file.tell() + size_per_core)\n",
    "        # Read the next line to prevent reading partial tweet\n",
    "        file.readline()\n",
    "        block_end = file.tell()\n",
    "\n",
    "        if block_end > dataset_size:\n",
    "            block_end = dataset_size\n",
    "            \n",
    "        print(str(block_start) + \" \" + str(block_end))\n",
    "        if block_end == dataset_size:\n",
    "            break"
   ]
  },
  {
   "cell_type": "code",
   "execution_count": 25,
   "metadata": {},
   "outputs": [
    {
     "name": "stdout",
     "output_type": "stream",
     "text": [
      "}]}}\n",
      "\n"
     ]
    }
   ],
   "source": [
    "with open('../data/twitter-huge.json', 'r', encoding='utf-8') as file:\n",
    "    file.seek(63201091450)\n",
    "    line = file.readline()\n",
    "    print(line)"
   ]
  },
  {
   "cell_type": "code",
   "execution_count": 14,
   "metadata": {},
   "outputs": [
    {
     "data": {
      "text/plain": [
       "['line,']"
      ]
     },
     "execution_count": 14,
     "metadata": {},
     "output_type": "execute_result"
    }
   ],
   "source": [
    "'line,'.splitlines()"
   ]
  }
 ],
 "metadata": {
  "kernelspec": {
   "display_name": "base",
   "language": "python",
   "name": "python3"
  },
  "language_info": {
   "codemirror_mode": {
    "name": "ipython",
    "version": 3
   },
   "file_extension": ".py",
   "mimetype": "text/x-python",
   "name": "python",
   "nbconvert_exporter": "python",
   "pygments_lexer": "ipython3",
   "version": "3.10.9"
  },
  "orig_nbformat": 4
 },
 "nbformat": 4,
 "nbformat_minor": 2
}
